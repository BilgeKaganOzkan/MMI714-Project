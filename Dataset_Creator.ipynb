{
 "cells": [
  {
   "cell_type": "code",
   "execution_count": 1,
   "id": "11cd4a0c-f77b-4abe-93cc-fe54a6962c42",
   "metadata": {},
   "outputs": [],
   "source": [
    "import cv2\n",
    "import numpy as np\n",
    "from PIL import Image, ImageDraw, ImageFont, UnidentifiedImageError\n",
    "import random\n",
    "import matplotlib.font_manager as fm\n",
    "import string\n",
    "import os\n",
    "import csv\n",
    "import math\n",
    "\n",
    "random.seed(2697134)"
   ]
  },
  {
   "cell_type": "markdown",
   "id": "72ad8f63-5efc-4821-bdcf-a5af06a07986",
   "metadata": {},
   "source": [
    "### Explanation of get_logos_from_directory And get_videos_from_directory Functions\n",
    "`get_logos_from_directory(directory)`\n",
    "The get_logos_from_directory function is designed to retrieve a list of file paths for all PNG files within a specified directory. It takes a single parameter, directory, which is the path to the directory where the search will be conducted. The function iterates through all the files in the given directory, checking each one to see if it ends with the '.png' extension. If a file meets this criterion, its full path is added to a list. Once all files have been checked, the function returns the list containing the paths of all PNG files found in the directory.\n",
    "\n",
    "`get_videos_from_directory(directory)`\n",
    "The get_videos_from_directory function operates similarly to retrieve file paths, but specifically for MP4 files in a given directory. It also takes a single parameter, directory, which is the path to the directory where the search will be conducted. The function iterates through all the files in the specified directory, checking each one to see if it ends with the '.mp4' extension. If a file meets this criterion, its full path is added to a list. After checking all files, the function returns a list of the paths for all MP4 files found in the directory."
   ]
  },
  {
   "cell_type": "code",
   "execution_count": 2,
   "id": "8589b54d-56a0-4dd7-acdf-06d5ca90d5ea",
   "metadata": {},
   "outputs": [],
   "source": [
    "def get_logos_from_directory(directory):\n",
    "    \"\"\"\n",
    "    Retrieves a list of file paths for all PNG files in the specified directory.\n",
    "\n",
    "    Parameters:\n",
    "    directory (str): The path to the directory to search for PNG files.\n",
    "\n",
    "    Returns:\n",
    "    list: A list of file paths for PNG files in the directory.\n",
    "    \"\"\"\n",
    "    return [os.path.join(directory, f) for f in os.listdir(directory) if f.endswith('.png')]\n",
    "\n",
    "def get_videos_from_directory(directory):\n",
    "    \"\"\"\n",
    "    Retrieves a list of file paths for all MP4 files in the specified directory.\n",
    "\n",
    "    Parameters:\n",
    "    directory (str): The path to the directory to search for MP4 files.\n",
    "\n",
    "    Returns:\n",
    "    list: A list of file paths for MP4 files in the directory.\n",
    "    \"\"\"\n",
    "    return [os.path.join(directory, f) for f in os.listdir(directory) if f.endswith('.mp4')]"
   ]
  },
  {
   "cell_type": "markdown",
   "id": "a4936df5-25cb-426f-85c2-ad0972e362e4",
   "metadata": {},
   "source": [
    "### Explanation of random_edge_position Function\n",
    "`The random_edge_position` function calculates a random position for text along the edges of an image, taking into account the image size, text size, and rotation angle of the text. The function accepts three parameters: image_size, a tuple representing the width and height of the image; text_size, a tuple representing the width and height of the text; and angle, the rotation angle of the text in degrees. First, it computes the cosine and sine of the rotation angle in radians to determine how the text size will be affected by the rotation. Using these values, the function calculates the width and height of the text when rotated. It then randomly chooses an edge of the image ('top', 'bottom', 'left', or 'right') to position the text. Depending on the chosen edge, the function calculates a random position along that edge while ensuring the text remains within the image boundaries. Finally, it returns the coordinates (x, y) representing the position of the text within the image."
   ]
  },
  {
   "cell_type": "code",
   "execution_count": 3,
   "id": "322831a1-d1fb-456c-86bc-5f5f010f3618",
   "metadata": {},
   "outputs": [],
   "source": [
    "def random_edge_position(image_size, text_size, angle):\n",
    "    \"\"\"\n",
    "    Calculates a random position for text along the edges of an image, given the image size, text size, and angle.\n",
    "\n",
    "    Parameters:\n",
    "    image_size (tuple): A tuple (width, height) representing the size of the image.\n",
    "    text_size (tuple): A tuple (width, height) representing the size of the text.\n",
    "    angle (float): The angle at which the text is rotated.\n",
    "\n",
    "    Returns:\n",
    "    tuple: A tuple (x, y) representing the position of the text within the image.\n",
    "    \"\"\"\n",
    "    # Calculate the cosine and sine of the angle in radians\n",
    "    cos_angle = abs(math.cos(math.radians(angle)))\n",
    "    sin_angle = abs(math.sin(math.radians(angle)))\n",
    "    \n",
    "    # Unpack the image and text dimensions\n",
    "    img_width, img_height = image_size\n",
    "    width, height = text_size\n",
    "    \n",
    "    # Calculate the width and height of the text when rotated\n",
    "    obj_width = int(width * cos_angle + height * sin_angle)\n",
    "    obj_height = int(height * cos_angle + width * sin_angle)\n",
    "\n",
    "    # Randomly choose an edge to place the text\n",
    "    edge_choice = random.choice(['top', 'bottom', 'left', 'right'])\n",
    "    \n",
    "    # Calculate the position based on the chosen edge\n",
    "    if edge_choice == 'top':\n",
    "        x = random.randint(0, img_width - obj_width)\n",
    "        max_random = int(img_height * 0.1) - obj_height\n",
    "        max_random = 0 if max_random < 0 else max_random\n",
    "        y = random.randint(0, max_random)\n",
    "    elif edge_choice == 'bottom':\n",
    "        x = random.randint(0, img_width - obj_width)\n",
    "        max_random = int(img_height * 0.1) - obj_height\n",
    "        max_random = 0 if max_random < 0 else max_random\n",
    "        y = random.randint(img_height - int(img_height * 0.1), img_height - int(img_height * 0.1) + max_random)\n",
    "    elif edge_choice == 'left':\n",
    "        max_random = int(img_width * 0.1) - obj_width\n",
    "        max_random = 0 if max_random < 0 else max_random\n",
    "        x = random.randint(0, max_random)\n",
    "        y = random.randint(0, img_height - obj_height)\n",
    "    elif edge_choice == 'right':\n",
    "        max_random = int(img_width * 0.1) - obj_width\n",
    "        max_random = 0 if max_random < 0 else max_random\n",
    "        x = random.randint(img_width - int(img_width * 0.1), img_width - int(img_width * 0.1) + max_random)\n",
    "        y = random.randint(0, img_height - obj_height)\n",
    "    \n",
    "    return x, y"
   ]
  },
  {
   "cell_type": "markdown",
   "id": "1a6f1a5a-2523-4805-b9da-8ddc71541abf",
   "metadata": {},
   "source": [
    "### Explanation of addRandomText Function\n",
    "The `addRandomText` function adds random text to an image using specified fonts and takes into account the dataset type, which affects the transparency of the text. It accepts three parameters: image, a PIL image to which the text will be added; fonts, a list of font file paths to choose from; and dataset_type, an integer that influences the text's transparency. The function starts by creating a drawing context for the image and generating a random text string composed of letters, digits, punctuation, and spaces with a length between 4 and 17 characters. It then selects a random font from the provided list and a random font size between 20 and 50. The bounding box of the text is calculated to determine its dimensions.\n",
    "\n",
    "Next, the function generates a random rotation angle for the text and uses the `random_edge_position` function to find a random position along the edges of the image for placing the text. An RGBA image is created for the text to handle transparency, and the text is drawn onto this image with a randomly chosen color and transparency level. The transparency level depends on the dataset type: higher values for dataset types 1 and 2, and lower values for other types.\n",
    "\n",
    "The text image is then rotated by the generated angle, and the rotated text image is pasted onto the original image at the calculated position. Finally, the function returns the modified image with the added text."
   ]
  },
  {
   "cell_type": "code",
   "execution_count": 4,
   "id": "37eb6513-038e-4cce-a70d-4c4f44b72700",
   "metadata": {},
   "outputs": [],
   "source": [
    "def addRandomText(image, fonts, dataset_type):\n",
    "    \"\"\"\n",
    "    Adds random text to an image with specified fonts and dataset type.\n",
    "\n",
    "    Parameters:\n",
    "    image (PIL.Image): The image to which the text will be added.\n",
    "    fonts (list): A list of font file paths to choose from.\n",
    "    dataset_type (int): The type of dataset, which affects the text transparency.\n",
    "\n",
    "    Returns:\n",
    "    PIL.Image: The image with the added text.\n",
    "    \"\"\"\n",
    "    # Create a drawing context for the image\n",
    "    draw = ImageDraw.Draw(image)\n",
    "    \n",
    "    # Generate a random text string\n",
    "    text = ''.join(random.choices(string.ascii_letters + string.digits + string.punctuation + ' ', k=random.randint(4, 17)))\n",
    "    \n",
    "    # Choose a random font and size\n",
    "    font_path = random.choice(fonts)\n",
    "    font = ImageFont.truetype(font_path, random.randint(20, 50))\n",
    "\n",
    "    # Calculate the bounding box of the text\n",
    "    left, top, right, bottom = draw.textbbox((0, 0), text, font=font)\n",
    "    text_width = right - left\n",
    "    text_height = bottom - top\n",
    "\n",
    "    # Generate a random rotation angle\n",
    "    angle = random.randint(0, 360)\n",
    "    \n",
    "    # Get a random position along the edges of the image for the text\n",
    "    start_offset, y_offset = random_edge_position(image.size, [text_width, text_height], angle)\n",
    "\n",
    "    # Create an RGBA image for the text\n",
    "    text_image = Image.new('RGBA', (text_width, text_height), (0, 0, 0, 0))\n",
    "    text_draw = ImageDraw.Draw(text_image)\n",
    "    \n",
    "    # Set the text transparency based on the dataset type\n",
    "    if dataset_type == 1 or dataset_type == 2:\n",
    "        alpha = random.randint(100, 255)\n",
    "    else:\n",
    "        alpha = random.randint(10, 100)\n",
    "    \n",
    "    # Generate a random color with the calculated transparency\n",
    "    fill_color = (random.randint(0, 255), random.randint(0, 255), random.randint(0, 255), alpha)\n",
    "    \n",
    "    # Draw the text onto the text image\n",
    "    text_draw.text((0, 0), text, font=font, fill=fill_color)\n",
    "    \n",
    "    # Rotate the text image\n",
    "    rotated_text_image = text_image.rotate(angle, expand=1)\n",
    "    \n",
    "    # Paste the rotated text image onto the original image at the calculated position\n",
    "    image.paste(rotated_text_image, (start_offset, y_offset), rotated_text_image)\n",
    "\n",
    "    return image"
   ]
  },
  {
   "cell_type": "markdown",
   "id": "6f3454eb-f735-4798-b815-2d951a5df329",
   "metadata": {},
   "source": [
    "### Explanation of addRandomLogo Function\n",
    "The `addRandomLogo` function adds a randomly placed and resized logo to an image. It accepts two parameters: image, a PIL image to which the logo will be added, and logo, the logo image that will be placed on the main image. The function starts by determining a random width for the logo, which is between 1% and 10% of the width of the main image. The logo is then resized to this width while maintaining its aspect ratio, using the LANCZOS resampling method to preserve image quality.\n",
    "\n",
    "Next, a random rotation angle between 0 and 360 degrees is generated for the logo. The function calculates a random position along the edges of the main image for placing the logo, using the `random_edge_position` function. This function takes into account the size of the image, the size of the logo, and the rotation angle to ensure the logo is positioned correctly along the edges.\n",
    "\n",
    "Finally, the logo is pasted onto the main image at the calculated position, and the function returns the modified image with the added logo."
   ]
  },
  {
   "cell_type": "code",
   "execution_count": 5,
   "id": "524ca343-55c2-4956-9f92-1eb8cb7cee0d",
   "metadata": {},
   "outputs": [],
   "source": [
    "def addRandomLogo(image, logo):\n",
    "    \"\"\"\n",
    "    Adds a random logo to an image.\n",
    "\n",
    "    Parameters:\n",
    "    image (PIL.Image): The image to which the logo will be added.\n",
    "    logo (PIL.Image): The logo image to be added.\n",
    "\n",
    "    Returns:\n",
    "    PIL.Image: The image with the added logo.\n",
    "    \"\"\"\n",
    "    # Determine a random width for the logo between 1% and 10% of the image width\n",
    "    logo_x = random.randint(int(image.width * 0.01), int(image.width * 0.1))\n",
    "    \n",
    "    # Resize the logo while maintaining its aspect ratio\n",
    "    logo = logo.resize((logo_x, int(logo.height * logo_x / logo.width)), Image.Resampling.LANCZOS)\n",
    "    \n",
    "    # Generate a random rotation angle for the logo\n",
    "    angle = random.randint(0, 360)\n",
    "    \n",
    "    # Calculate a random position along the edges of the image for the logo\n",
    "    position = random_edge_position(image.size, logo.size, angle)\n",
    "    \n",
    "    # Paste the logo onto the image at the calculated position\n",
    "    image.paste(logo, position, logo)\n",
    "    \n",
    "    return image"
   ]
  },
  {
   "cell_type": "markdown",
   "id": "861d6a8f-f4e3-44e2-9892-b828a0bf83df",
   "metadata": {},
   "source": [
    "### Explanation of saveMetadata Function\n",
    "The `saveMetadata` function saves a list of metadata dictionaries to a CSV file. It accepts two parameters: metadata, which is a list of dictionaries containing the metadata, and output_dir, which is the directory where the CSV file will be saved. The function begins by extracting the keys from the first dictionary in the metadata list, which will be used as the header for the CSV file.\n",
    "\n",
    "Next, it opens a new CSV file named `metadata.csv` in write mode within the specified output directory. A `DictWriter` object is created using the extracted keys as the fieldnames. The function writes the header row to the CSV file using the `writeheader` method of the `DictWriter` object. Finally, it writes all the rows of metadata to the CSV file using the `writerows` method, which iterates over the list of dictionaries and writes each one to the file. The function completes its task without returning any value."
   ]
  },
  {
   "cell_type": "code",
   "execution_count": 6,
   "id": "d2b3037e-d775-47bf-a1ae-67af63221eaf",
   "metadata": {},
   "outputs": [],
   "source": [
    "def saveMetadata(metadata, output_dir):\n",
    "    \"\"\"\n",
    "    Saves metadata to a CSV file.\n",
    "\n",
    "    Parameters:\n",
    "    metadata (list of dict): A list of dictionaries containing metadata.\n",
    "    output_dir (str): The directory where the CSV file will be saved.\n",
    "\n",
    "    Returns:\n",
    "    None\n",
    "    \"\"\"\n",
    "    # Get the keys from the first dictionary in the metadata list\n",
    "    keys = metadata[0].keys()\n",
    "    \n",
    "    # Open a new CSV file in write mode within the specified output directory\n",
    "    with open(os.path.join(output_dir, 'metadata.csv'), 'w', newline='') as output_file:\n",
    "        # Create a DictWriter object with the keys as fieldnames\n",
    "        dict_writer = csv.DictWriter(output_file, keys)\n",
    "        \n",
    "        # Write the header row to the CSV file\n",
    "        dict_writer.writeheader()\n",
    "        \n",
    "        # Write all rows of metadata to the CSV file\n",
    "        dict_writer.writerows(metadata)"
   ]
  },
  {
   "cell_type": "markdown",
   "id": "5f112e67-2321-4935-8c5e-def4eae4ad0b",
   "metadata": {},
   "source": [
    "### Explanation of extractAndWatermarkFrames Function\n",
    "The `extractAndWatermarkFrames` function processes video files by extracting frames and adding watermarks (either logos or text) to them. It accepts five parameters: `video_path`, the directory containing the video files; `logo_dir`, the directory containing the logo images; `output_dir`, the directory where the output frames and metadata will be saved; `dataset_type`, an integer that affects the type and transparency of the watermarks; and `skip_frames`, an optional integer specifying the number of frames to skip before processing the next frame (default is 60).\n",
    "\n",
    "The function starts by initializing an empty list for metadata and retrieves lists of video files and logo images from their respective directories. It also finds system fonts available for use. For each video, it opens the video file and reads frames in a loop. If the frame reading is successful and the current frame count is a multiple of `skip_frames`, it converts the frame to a PIL image and crops it to a size of `1024x1024 pixels centered` within the frame, if possible.\n",
    "\n",
    "The original frame is saved as a JPEG file in the output directory. The function then randomly decides the number of watermarks to add to the frame, with the possibility of choosing between logos and text based on the dataset type. For each watermark, if a logo is chosen and available, the function attempts to open and add a random logo to the frame. If text is chosen, it adds random text to the frame using the available fonts.\n",
    "\n",
    "The watermarked frame is then saved as a separate JPEG file in the output directory. The function appends metadata for each processed frame, including the original and watermarked filenames, to the metadata list. Once all frames in a video have been processed, it releases the video capture object. Finally, the function saves the collected metadata to a CSV file in the output directory."
   ]
  },
  {
   "cell_type": "code",
   "execution_count": 7,
   "id": "33c8d8c8-f327-4345-814d-5d499cc49ccd",
   "metadata": {},
   "outputs": [],
   "source": [
    "def extractAndWatermarkFrames(video_path, logo_dir, output_dir, dataset_type, skip_frames=60):\n",
    "    \"\"\"\n",
    "    Extracts frames from videos and adds watermarks (logos or text) to the frames.\n",
    "\n",
    "    Parameters:\n",
    "    video_path (str): The directory containing the video files.\n",
    "    logo_dir (str): The directory containing the logo images.\n",
    "    output_dir (str): The directory where the output frames and metadata will be saved.\n",
    "    dataset_type (int): The type of dataset, which affects the type and transparency of the watermarks.\n",
    "    skip_frames (int, optional): The number of frames to skip before processing the next frame. Default is 60.\n",
    "\n",
    "    Returns:\n",
    "    None\n",
    "    \"\"\"\n",
    "    metadata = []\n",
    "    videos = get_videos_from_directory(video_path)\n",
    "    count = 0\n",
    "    frame_count = 0\n",
    "    logos = get_logos_from_directory(logo_dir)\n",
    "    fonts = fm.findSystemFonts(fontpaths=None, fontext='ttf')\n",
    "\n",
    "    for video in videos:\n",
    "        cap = cv2.VideoCapture(video)\n",
    "        print(video)\n",
    "        while True:\n",
    "            ret, frame = cap.read()\n",
    "            if not ret:\n",
    "                break\n",
    "            if frame_count % skip_frames == 0:\n",
    "                # Convert the frame to a PIL image\n",
    "                frame_image = Image.fromarray(cv2.cvtColor(frame, cv2.COLOR_BGR2RGB))\n",
    "                width, height = frame_image.size\n",
    "                \n",
    "                # Define the size for cropping the frame\n",
    "                crop_width, crop_height = 1024, 1024\n",
    "            \n",
    "                # Calculate the coordinates for cropping the frame to the center\n",
    "                left = (width - crop_width) / 2\n",
    "                top = (height - crop_height) / 2\n",
    "                right = (width + crop_width) / 2\n",
    "                bottom = (height + crop_height) / 2\n",
    "                \n",
    "                # Crop the frame if it's larger than the defined crop size\n",
    "                if width >= crop_width and height >= crop_height:\n",
    "                    frame_image = frame_image.crop((left, top, right, bottom))\n",
    "\n",
    "                original_filename = f\"frame_{count}.jpg\"\n",
    "                watermarked_filename = f\"frame_{count}_watermarked.jpg\"\n",
    "\n",
    "                # Save the original frame\n",
    "                frame_image.save(os.path.join(output_dir, original_filename))\n",
    "\n",
    "                # Randomly decide the number of watermarks to add\n",
    "                num_watermarks = random.randint(1, 5)\n",
    "                watermarked_image = frame_image\n",
    "\n",
    "                for _ in range(num_watermarks):\n",
    "                    if dataset_type == 1:\n",
    "                        choice = random.choice(['logo', 'text'])\n",
    "                    else:\n",
    "                        choice = \"text\"\n",
    "                        \n",
    "                    if choice == 'logo' and logos:\n",
    "                        try:\n",
    "                            # Choose a random logo and add it to the frame\n",
    "                            choice = random.choice(logos)\n",
    "                            logo_image = Image.open(choice).convert(\"RGBA\")\n",
    "                            watermarked_image = addRandomLogo(watermarked_image, logo_image)\n",
    "                        except UnidentifiedImageError:\n",
    "                            print(f\"Logo file cannot be opened: {choice}\")\n",
    "                        except Exception as e:\n",
    "                            print(f\"An error occurred while processing the logo file: {e}\")\n",
    "                    elif choice == 'text':\n",
    "                        # Add random text to the frame\n",
    "                        watermarked_image = addRandomText(watermarked_image, fonts, dataset_type)\n",
    "\n",
    "                # Save the watermarked frame\n",
    "                watermarked_image.save(os.path.join(output_dir, watermarked_filename))\n",
    "\n",
    "                # Append the metadata for this frame\n",
    "                metadata.append({\n",
    "                    'original': original_filename,\n",
    "                    'watermarked': watermarked_filename\n",
    "                })\n",
    "                count += 1\n",
    "            frame_count += 1\n",
    "            \n",
    "        cap.release()\n",
    "\n",
    "    # Save the metadata to a CSV file\n",
    "    saveMetadata(metadata, output_dir)"
   ]
  },
  {
   "cell_type": "markdown",
   "id": "c0c3593d-fbb0-465a-9ae7-50bbc1249cfd",
   "metadata": {},
   "source": [
    "## No Logo Low Opacity Train Dataset Creation\n",
    "Below block creates No Logo Low Opacity Train Dataset"
   ]
  },
  {
   "cell_type": "code",
   "execution_count": 8,
   "id": "5cf4e066-d3c5-4b63-b755-87b503c2a868",
   "metadata": {},
   "outputs": [
    {
     "name": "stdout",
     "output_type": "stream",
     "text": [
      "movies_train\\1.mp4\n",
      "movies_train\\10.mp4\n",
      "movies_train\\11.mp4\n",
      "movies_train\\12.mp4\n",
      "movies_train\\13.mp4\n",
      "movies_train\\14.mp4\n",
      "movies_train\\15.mp4\n",
      "movies_train\\16.mp4\n",
      "movies_train\\17.mp4\n",
      "movies_train\\18.mp4\n",
      "movies_train\\19.mp4\n",
      "movies_train\\2.mp4\n",
      "movies_train\\20.mp4\n",
      "movies_train\\21.mp4\n",
      "movies_train\\22.mp4\n",
      "movies_train\\23.mp4\n",
      "movies_train\\3.mp4\n",
      "movies_train\\4.mp4\n",
      "movies_train\\5.mp4\n",
      "movies_train\\6.mp4\n",
      "movies_train\\7.mp4\n",
      "movies_train\\8.mp4\n",
      "movies_train\\9.mp4\n"
     ]
    }
   ],
   "source": [
    "video_dir = 'movies_train'\n",
    "logo_dir = 'logos'\n",
    "output_dir = 'logo_and_high_opacity_watermark_dataset_train'\n",
    "dataset_type = 1\n",
    "extractAndWatermarkFrames(video_dir, logo_dir, output_dir, dataset_type, skip_frames=60)"
   ]
  },
  {
   "cell_type": "markdown",
   "id": "2606bc3e-8a9a-4dab-8794-70536fd7cfa4",
   "metadata": {},
   "source": [
    "## No Logo Low Opacity Test Dataset Creation\n",
    "Below block creates No Logo Low Opacity Test Dataset"
   ]
  },
  {
   "cell_type": "code",
   "execution_count": 9,
   "id": "f69f1a8f-f2b4-4759-acc1-f752075334c8",
   "metadata": {},
   "outputs": [
    {
     "name": "stdout",
     "output_type": "stream",
     "text": [
      "movies_test\\t1.mp4\n",
      "movies_test\\t2.mp4\n",
      "movies_test\\t3.mp4\n",
      "movies_test\\t4.mp4\n",
      "movies_test\\t5.mp4\n"
     ]
    }
   ],
   "source": [
    "video_dir = 'movies_test'\n",
    "logo_dir = 'logos'\n",
    "output_dir = 'logo_and_high_opacity_watermark_dataset_test'\n",
    "dataset_type = 1\n",
    "extractAndWatermarkFrames(video_dir, logo_dir, output_dir, dataset_type, skip_frames=60)"
   ]
  },
  {
   "cell_type": "markdown",
   "id": "585e25e9-92c2-442f-834c-85de0df83446",
   "metadata": {},
   "source": [
    "## No Logo High Opacity Train Dataset Creation\n",
    "Below block creates No Logo High Opacity Train Dataset"
   ]
  },
  {
   "cell_type": "code",
   "execution_count": 11,
   "id": "a3548b89-588f-4d28-a195-d019163a7caf",
   "metadata": {},
   "outputs": [
    {
     "name": "stdout",
     "output_type": "stream",
     "text": [
      "movies_train\\1.mp4\n",
      "movies_train\\10.mp4\n",
      "movies_train\\11.mp4\n",
      "movies_train\\12.mp4\n",
      "movies_train\\13.mp4\n",
      "movies_train\\14.mp4\n",
      "movies_train\\15.mp4\n",
      "movies_train\\16.mp4\n",
      "movies_train\\17.mp4\n",
      "movies_train\\18.mp4\n",
      "movies_train\\19.mp4\n",
      "movies_train\\2.mp4\n",
      "movies_train\\20.mp4\n",
      "movies_train\\21.mp4\n",
      "movies_train\\22.mp4\n",
      "movies_train\\23.mp4\n",
      "movies_train\\3.mp4\n",
      "movies_train\\4.mp4\n",
      "movies_train\\5.mp4\n",
      "movies_train\\6.mp4\n",
      "movies_train\\7.mp4\n",
      "movies_train\\8.mp4\n",
      "movies_train\\9.mp4\n"
     ]
    }
   ],
   "source": [
    "video_dir = 'movies_train'\n",
    "logo_dir = 'logos'\n",
    "output_dir = 'no_logo_and_high_opacity_watermark_dataset_train'\n",
    "dataset_type = 2\n",
    "extractAndWatermarkFrames(video_dir, logo_dir, output_dir, dataset_type, skip_frames=60)"
   ]
  },
  {
   "cell_type": "markdown",
   "id": "d2e524f5-16d3-4072-b651-11e083819759",
   "metadata": {},
   "source": [
    "## No Logo High Opacity Test Dataset Creation\n",
    "Below block creates No Logo High Opacity Test Dataset"
   ]
  },
  {
   "cell_type": "code",
   "execution_count": 12,
   "id": "a516bccf-09f5-4093-9486-beb99e766be1",
   "metadata": {},
   "outputs": [
    {
     "name": "stdout",
     "output_type": "stream",
     "text": [
      "movies_test\\t1.mp4\n",
      "movies_test\\t2.mp4\n",
      "movies_test\\t3.mp4\n",
      "movies_test\\t4.mp4\n",
      "movies_test\\t5.mp4\n"
     ]
    }
   ],
   "source": [
    "video_dir = 'movies_test'\n",
    "logo_dir = 'logos'\n",
    "output_dir = 'no_logo_and_high_opacity_watermark_dataset_test'\n",
    "dataset_type = 2\n",
    "extractAndWatermarkFrames(video_dir, logo_dir, output_dir, dataset_type, skip_frames=60)"
   ]
  },
  {
   "cell_type": "markdown",
   "id": "afb4415f-f78b-40eb-b374-bca62327c2c0",
   "metadata": {},
   "source": [
    "## Logo High Opacity Train Dataset Creation\n",
    "Below block creates Logo High Opacity Train Dataset"
   ]
  },
  {
   "cell_type": "code",
   "execution_count": 13,
   "id": "e39ac5f2-6c09-4315-9ff3-213e51157b5c",
   "metadata": {},
   "outputs": [
    {
     "name": "stdout",
     "output_type": "stream",
     "text": [
      "movies_train\\1.mp4\n",
      "movies_train\\10.mp4\n",
      "movies_train\\11.mp4\n",
      "movies_train\\12.mp4\n",
      "movies_train\\13.mp4\n",
      "movies_train\\14.mp4\n",
      "movies_train\\15.mp4\n",
      "movies_train\\16.mp4\n",
      "movies_train\\17.mp4\n",
      "movies_train\\18.mp4\n",
      "movies_train\\19.mp4\n",
      "movies_train\\2.mp4\n",
      "movies_train\\20.mp4\n",
      "movies_train\\21.mp4\n",
      "movies_train\\22.mp4\n",
      "movies_train\\23.mp4\n",
      "movies_train\\3.mp4\n",
      "movies_train\\4.mp4\n",
      "movies_train\\5.mp4\n",
      "movies_train\\6.mp4\n",
      "movies_train\\7.mp4\n",
      "movies_train\\8.mp4\n",
      "movies_train\\9.mp4\n"
     ]
    }
   ],
   "source": [
    "video_dir = 'movies_train'\n",
    "logo_dir = 'logos'\n",
    "output_dir = 'no_logo_and_low_opacity_watermark_dataset_train'\n",
    "dataset_type = 3\n",
    "extractAndWatermarkFrames(video_dir, logo_dir, output_dir, dataset_type, skip_frames=60)"
   ]
  },
  {
   "cell_type": "markdown",
   "id": "cf7a73fa-4021-495e-b360-088d6033ee1b",
   "metadata": {},
   "source": [
    "## Logo High Opacity Test Dataset Creation\n",
    "Below block creates Logo High Opacity Test Dataset"
   ]
  },
  {
   "cell_type": "code",
   "execution_count": 14,
   "id": "55f1339f-0666-46b0-88a8-735373990691",
   "metadata": {},
   "outputs": [
    {
     "name": "stdout",
     "output_type": "stream",
     "text": [
      "movies_test\\t1.mp4\n",
      "movies_test\\t2.mp4\n",
      "movies_test\\t3.mp4\n",
      "movies_test\\t4.mp4\n",
      "movies_test\\t5.mp4\n"
     ]
    }
   ],
   "source": [
    "video_dir = 'movies_test'\n",
    "logo_dir = 'logos'\n",
    "output_dir = 'no_logo_and_low_opacity_watermark_dataset_test'\n",
    "dataset_type = 3\n",
    "extractAndWatermarkFrames(video_dir, logo_dir, output_dir, dataset_type, skip_frames=60)"
   ]
  }
 ],
 "metadata": {
  "kernelspec": {
   "display_name": "Python 3 (ipykernel)",
   "language": "python",
   "name": "python3"
  },
  "language_info": {
   "codemirror_mode": {
    "name": "ipython",
    "version": 3
   },
   "file_extension": ".py",
   "mimetype": "text/x-python",
   "name": "python",
   "nbconvert_exporter": "python",
   "pygments_lexer": "ipython3",
   "version": "3.11.9"
  }
 },
 "nbformat": 4,
 "nbformat_minor": 5
}
